{
 "cells": [
  {
   "cell_type": "code",
   "execution_count": 2,
   "id": "bf48757b-ffda-420e-a723-d64b08461b0f",
   "metadata": {},
   "outputs": [],
   "source": [
    "list_1 = [1,2,3,4,5,6,7,8,9,10]"
   ]
  },
  {
   "cell_type": "code",
   "execution_count": 4,
   "id": "54e46534-ddd0-4fc1-a869-de59f1772457",
   "metadata": {},
   "outputs": [
    {
     "name": "stdout",
     "output_type": "stream",
     "text": [
      "[2, 3, 4]\n"
     ]
    }
   ],
   "source": [
    "list_1 = [1,2,3,4,5,6,7,8,9,10]\n",
    "print (list_1[1:4])"
   ]
  },
  {
   "cell_type": "code",
   "execution_count": 5,
   "id": "7185e9e8-afb0-48b2-b264-180cf9d0398b",
   "metadata": {},
   "outputs": [
    {
     "name": "stdout",
     "output_type": "stream",
     "text": [
      "[1, 2, 100, 4, 5, 6, 7, 8, 9, 10]\n"
     ]
    }
   ],
   "source": [
    "list_1 = [1,2,3,4,5,6,7,8,9,10]\n",
    "list_1[2]=100\n",
    "print(list_1)"
   ]
  },
  {
   "cell_type": "code",
   "execution_count": 6,
   "id": "170edb9d-6151-4a89-9ec3-402a920866c3",
   "metadata": {},
   "outputs": [
    {
     "name": "stdout",
     "output_type": "stream",
     "text": [
      "[1, 2, 3, 4, 5, 6, 7, 8, 9, 10, 200]\n"
     ]
    }
   ],
   "source": [
    "list_1=[1,2,3,4,5,6,7,8,9,10]\n",
    "list_1.append(200)\n",
    "print(list_1)"
   ]
  },
  {
   "cell_type": "code",
   "execution_count": 8,
   "id": "ef9d6187-24f6-41d3-8b80-93ce0988aa7f",
   "metadata": {},
   "outputs": [
    {
     "name": "stdout",
     "output_type": "stream",
     "text": [
      "[1, 2, 4, 6, 7, 8, 9, 10]\n"
     ]
    }
   ],
   "source": [
    "list_1=[1,2,3,4,5,6,7,8,9,10]\n",
    "del list_1[2]\n",
    "del list_1[3]\n",
    "print (list_1)"
   ]
  },
  {
   "cell_type": "code",
   "execution_count": 13,
   "id": "7348a914-7853-4704-bcc0-a2e2aaea2a89",
   "metadata": {},
   "outputs": [
    {
     "name": "stdout",
     "output_type": "stream",
     "text": [
      "[]\n"
     ]
    }
   ],
   "source": [
    "list_1=[1,2,3,4,5,6,7,8,9,10]\n",
    "list_1.clear()\n",
    "print (list_1)"
   ]
  },
  {
   "cell_type": "code",
   "execution_count": 14,
   "id": "c3cc9ab4-b1ee-4b3d-9122-7ce034f99d5d",
   "metadata": {},
   "outputs": [
    {
     "name": "stdout",
     "output_type": "stream",
     "text": [
      "sum is 1\n",
      "avg is 11\n",
      "sum is 3\n",
      "avg is 11\n",
      "sum is 6\n",
      "avg is 14\n",
      "sum is 10\n",
      "avg is 10\n",
      "sum is 15\n",
      "avg is 15\n",
      "sum is 21\n",
      "avg is 31\n",
      "sum is 28\n",
      "avg is 30\n",
      "sum is 36\n",
      "avg is 46\n",
      "sum is 45\n",
      "avg is 47\n",
      "sum is 55\n",
      "avg is 63\n"
     ]
    }
   ],
   "source": [
    "list_1 = [1,2,3,4,5,6,7,8,9,10]\n",
    "sum=0\n",
    "for i in list_1:\n",
    "    sum +=i\n",
    "    avg=sum|len(list_1)\n",
    "    print(\"sum is\",sum)\n",
    "    print(\"avg is\",avg)\n",
    "    "
   ]
  },
  {
   "cell_type": "code",
   "execution_count": 16,
   "id": "b82cd346-b687-4bb0-8071-f8061f6cbd22",
   "metadata": {},
   "outputs": [
    {
     "name": "stdout",
     "output_type": "stream",
     "text": [
      "[10, 2, 3, 4, 5, 6, 7, 8, 9, 1]\n"
     ]
    }
   ],
   "source": [
    "list_1=[1,2,3,4,5,6,7,8,9,10]\n",
    "list_1[0],list_1[9]=list_1[9],list_1[0]\n",
    "print(list_1)"
   ]
  },
  {
   "cell_type": "code",
   "execution_count": 26,
   "id": "b1a41a29-cb2f-46ac-b1a6-8ac15a8c4fb6",
   "metadata": {},
   "outputs": [
    {
     "name": "stdout",
     "output_type": "stream",
     "text": [
      "the min element is 10\n",
      "the max element is 10\n"
     ]
    }
   ],
   "source": [
    "list_1=[1,2,3,4,5,6,7,8,9,10]\n",
    "x=min(list_1)\n",
    "x=max(list_1)\n",
    "print(\"the min element is\",x)\n",
    "print(\"the max element is\",x)"
   ]
  },
  {
   "cell_type": "code",
   "execution_count": 23,
   "id": "d71c0989-25f2-4460-af0e-9102b366138f",
   "metadata": {},
   "outputs": [
    {
     "name": "stdout",
     "output_type": "stream",
     "text": [
      "[1, 2, 3, 9, 5, 6, 7, 8, 4, 10]\n"
     ]
    }
   ],
   "source": [
    "list_1=[1,2,3,4,5,6,7,8,9,10]\n",
    "list_1[3],list_1[8]=list_1[8],list_1[3]\n",
    "print(list_1)"
   ]
  },
  {
   "cell_type": "code",
   "execution_count": null,
   "id": "55a0e875-40e6-4b11-b7e0-db67ee76e933",
   "metadata": {},
   "outputs": [],
   "source": []
  }
 ],
 "metadata": {
  "kernelspec": {
   "display_name": "Python 3 (ipykernel)",
   "language": "python",
   "name": "python3"
  },
  "language_info": {
   "codemirror_mode": {
    "name": "ipython",
    "version": 3
   },
   "file_extension": ".py",
   "mimetype": "text/x-python",
   "name": "python",
   "nbconvert_exporter": "python",
   "pygments_lexer": "ipython3",
   "version": "3.12.4"
  }
 },
 "nbformat": 4,
 "nbformat_minor": 5
}
