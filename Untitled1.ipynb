{
 "cells": [
  {
   "cell_type": "code",
   "execution_count": 5,
   "id": "99b6fa42-9ac1-4144-ad6f-eabd7dc60f37",
   "metadata": {},
   "outputs": [
    {
     "ename": "IndentationError",
     "evalue": "expected an indented block after function definition on line 1 (399062465.py, line 2)",
     "output_type": "error",
     "traceback": [
      "\u001b[1;36m  Cell \u001b[1;32mIn[5], line 2\u001b[1;36m\u001b[0m\n\u001b[1;33m    if num1 > num2:\u001b[0m\n\u001b[1;37m    ^\u001b[0m\n\u001b[1;31mIndentationError\u001b[0m\u001b[1;31m:\u001b[0m expected an indented block after function definition on line 1\n"
     ]
    }
   ],
   "source": [
    "def find_greater_number(num1,num2):\n",
    "if num1 > num2:\n",
    "    return num1\n",
    "elif num2>num1:\n",
    "    return num2\n",
    "else:\n",
    "    return both\"both numbers are equal\"\n",
    "    number1=float(input(\"enter the first number:\"))\n",
    "    number2=float(input(\"enter the second number:\"))\n",
    "    greater_number=find_greater number(number1,number2)\n",
    "    print(\"The greater number is: \",greater_number)"
   ]
  },
  {
   "cell_type": "code",
   "execution_count": null,
   "id": "add193d3-eb71-43f9-93d6-06be9740975e",
   "metadata": {},
   "outputs": [],
   "source": []
  },
  {
   "cell_type": "code",
   "execution_count": 7,
   "id": "998323aa-d148-4cee-9037-1ef2a36496d1",
   "metadata": {},
   "outputs": [
    {
     "ename": "SyntaxError",
     "evalue": "unterminated string literal (detected at line 7) (1638447564.py, line 7)",
     "output_type": "error",
     "traceback": [
      "\u001b[1;36m  Cell \u001b[1;32mIn[7], line 7\u001b[1;36m\u001b[0m\n\u001b[1;33m    print(\"The sum of the first \",n,\"natural numbers is:,sum_natural_numbers)\u001b[0m\n\u001b[1;37m                                    ^\u001b[0m\n\u001b[1;31mSyntaxError\u001b[0m\u001b[1;31m:\u001b[0m unterminated string literal (detected at line 7)\n"
     ]
    }
   ],
   "source": [
    "def sum_of_natural_numbers(n):\n",
    "    if n<1:\n",
    "        return\"Please enter a positive number\"\n",
    "        return n*(n+1)//2\n",
    "        n=int(input(\"enter a positive integer: \"))\n",
    "        sum_of_natural_numbers=sum_of_natural_numbers(n)\n",
    "        print(\"The sum of the first \",n,\"natural numbers is:,sum_natural_numbers)"
   ]
  },
  {
   "cell_type": "code",
   "execution_count": 8,
   "id": "0f0a91e9-af80-419b-b70f-88cd80caa1d9",
   "metadata": {},
   "outputs": [
    {
     "ename": "SyntaxError",
     "evalue": "incomplete input (789416461.py, line 8)",
     "output_type": "error",
     "traceback": [
      "\u001b[1;36m  Cell \u001b[1;32mIn[8], line 8\u001b[1;36m\u001b[0m\n\u001b[1;33m    print(swapList(newList)\u001b[0m\n\u001b[1;37m                           ^\u001b[0m\n\u001b[1;31mSyntaxError\u001b[0m\u001b[1;31m:\u001b[0m incomplete input\n"
     ]
    }
   ],
   "source": [
    "def swapList(newList):\n",
    "    size = len(newList)\n",
    "    temp = newList[0]\n",
    "    newList[0] = newList[size - 1]\n",
    "    newList[size - 1] = temp\n",
    "    return newList\n",
    "    newList = [12,35,9,56,24]\n",
    "    print(swapList(newList)"
   ]
  },
  {
   "cell_type": "code",
   "execution_count": 9,
   "id": "0d1348e1-c98e-4da1-b774-0dd81bd4c5e5",
   "metadata": {},
   "outputs": [
    {
     "name": "stdout",
     "output_type": "stream",
     "text": [
      "The length of list is:  3\n"
     ]
    }
   ],
   "source": [
    "list_1=[10,20,30,40]\n",
    "abc=[10,20,30]\n",
    "n= len(abc)\n",
    "print(\"The length of list is: \",n)"
   ]
  },
  {
   "cell_type": "code",
   "execution_count": 13,
   "id": "8224e86e-2d55-4efb-8e73-eff8c9363ac2",
   "metadata": {},
   "outputs": [
    {
     "name": "stdout",
     "output_type": "stream",
     "text": [
      "4\n"
     ]
    }
   ],
   "source": [
    "a=2\n",
    "b=4\n",
    "def maximum(a,b):\n",
    "    if a>=b:\n",
    "        return a\n",
    "    else:\n",
    "        return b\n",
    "    a=2\n",
    "b=4\n",
    "print(maximum(a,b))"
   ]
  },
  {
   "cell_type": "code",
   "execution_count": 20,
   "id": "fdbcbd29-0866-4378-bc0c-d223ee430ada",
   "metadata": {},
   "outputs": [
    {
     "name": "stdout",
     "output_type": "stream",
     "text": [
      "2\n"
     ]
    }
   ],
   "source": [
    "a=2\n",
    "b=4\n",
    "def minimum(a,b):\n",
    "    if a<=b:\n",
    "        return a\n",
    "    else:\n",
    "        return b\n",
    "        a=2\n",
    "b=4\n",
    "print(minimum(a,b))"
   ]
  },
  {
   "cell_type": "code",
   "execution_count": 21,
   "id": "ee5e765f-72b8-432b-81d1-d654f4df5b0e",
   "metadata": {},
   "outputs": [
    {
     "name": "stdout",
     "output_type": "stream",
     "text": [
      "code\n",
      "code to\n",
      "code to likes\n",
      "code to likes Anshika\n"
     ]
    }
   ],
   "source": [
    "string = \"Anshika likes to code\"\n",
    "s= string.split()[::-1]\n",
    "l= []\n",
    "for i in s:\n",
    "    l.append(i)\n",
    "    print(\" \".join(l))"
   ]
  },
  {
   "cell_type": "code",
   "execution_count": 23,
   "id": "f071faa9-4a98-4f95-9b4a-ea7e10065063",
   "metadata": {},
   "outputs": [],
   "source": [
    "def factorial(n):\n",
    "    if n==0 or n==1:\n",
    "        return 1\n",
    "    else:\n",
    "        return n*factorial(n-1)\n",
    "        num = int(input(\"enter a number\"))\n",
    "        result = factorial(num)\n",
    "        print(\"The factorial of\",num,\"is: \",result)\n",
    "       "
   ]
  },
  {
   "cell_type": "code",
   "execution_count": 27,
   "id": "3d3a26eb-215b-4777-9145-31f267472ee7",
   "metadata": {},
   "outputs": [
    {
     "ename": "IndentationError",
     "evalue": "expected an indented block after function definition on line 1 (665098755.py, line 2)",
     "output_type": "error",
     "traceback": [
      "\u001b[1;36m  Cell \u001b[1;32mIn[27], line 2\u001b[1;36m\u001b[0m\n\u001b[1;33m    if n <= 1;\u001b[0m\n\u001b[1;37m    ^\u001b[0m\n\u001b[1;31mIndentationError\u001b[0m\u001b[1;31m:\u001b[0m expected an indented block after function definition on line 1\n"
     ]
    }
   ],
   "source": [
    "def fibonacci (n):\n",
    "if n <= 1;\n",
    "    return n\n",
    "else\n",
    "return fibonacci(n-1)+fibonacci(n-1)\n",
    "terms=int(input(\"enter the number of terms\"))\n",
    "for i in range(terms)\n",
    "print(fibonacci(i))"
   ]
  },
  {
   "cell_type": "code",
   "execution_count": null,
   "id": "7af99ba6-9d29-46fb-91a2-dc3d166e62f6",
   "metadata": {},
   "outputs": [],
   "source": []
  }
 ],
 "metadata": {
  "kernelspec": {
   "display_name": "Python 3 (ipykernel)",
   "language": "python",
   "name": "python3"
  },
  "language_info": {
   "codemirror_mode": {
    "name": "ipython",
    "version": 3
   },
   "file_extension": ".py",
   "mimetype": "text/x-python",
   "name": "python",
   "nbconvert_exporter": "python",
   "pygments_lexer": "ipython3",
   "version": "3.12.4"
  }
 },
 "nbformat": 4,
 "nbformat_minor": 5
}
