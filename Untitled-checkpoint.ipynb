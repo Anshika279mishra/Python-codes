{
 "cells": [
  {
   "cell_type": "code",
   "execution_count": 1,
   "id": "9caf0b2e-8db7-4e4c-b514-acd914444472",
   "metadata": {},
   "outputs": [
    {
     "name": "stdout",
     "output_type": "stream",
     "text": [
      "*****\n",
      "*****\n",
      "*****\n",
      "*****\n",
      "*****\n"
     ]
    }
   ],
   "source": [
    "rows=5\n",
    "for i in range(1,rows + 1):\n",
    "    for j in range(1,rows + 1):\n",
    "        print(\"*\",end = '')\n",
    "    print()    "
   ]
  },
  {
   "cell_type": "code",
   "execution_count": 3,
   "id": "abef82b7-5f54-4de2-845b-2fd3ddb4eaa3",
   "metadata": {},
   "outputs": [
    {
     "name": "stdout",
     "output_type": "stream",
     "text": [
      "1\n",
      "12\n",
      "123\n",
      "1234\n",
      "12345\n"
     ]
    }
   ],
   "source": [
    "rows=5\n",
    "for i in range (1,rows+1):\n",
    "    for j in range(1,i+1):\n",
    "        print (j,end='')\n",
    "    print('')    "
   ]
  },
  {
   "cell_type": "code",
   "execution_count": 4,
   "id": "27731f5a-749b-49be-98d6-12adf2608f12",
   "metadata": {},
   "outputs": [
    {
     "name": "stdin",
     "output_type": "stream",
     "text": [
      "enter the number of rows 5\n"
     ]
    },
    {
     "name": "stdout",
     "output_type": "stream",
     "text": [
      "*\n",
      "**\n",
      "***\n",
      "****\n",
      "*****\n"
     ]
    }
   ],
   "source": [
    "n=int(input(\"enter the number of rows\"))\n",
    "for i in range(0,n):\n",
    "    for j in range(0,i+1):\n",
    "        print(\"*\",end='')\n",
    "    print()    "
   ]
  },
  {
   "cell_type": "code",
   "execution_count": 5,
   "id": "336e19ab-355a-47f3-970a-351b0c66810f",
   "metadata": {},
   "outputs": [
    {
     "name": "stdout",
     "output_type": "stream",
     "text": [
      "\n",
      "1\n",
      "22\n",
      "333\n",
      "4444\n",
      "55555\n"
     ]
    }
   ],
   "source": [
    "rows=6\n",
    "for i in range(rows):\n",
    "    for j in range(i):\n",
    "        print (i,end='')\n",
    "    print('')    "
   ]
  },
  {
   "cell_type": "code",
   "execution_count": 7,
   "id": "137d86fe-54ee-40d1-8462-9a395d337441",
   "metadata": {},
   "outputs": [
    {
     "name": "stdout",
     "output_type": "stream",
     "text": [
      "          1 \n",
      "        2 2 \n",
      "      3 3 3 \n",
      "    4 4 4 4 \n",
      "  5 5 5 5 5 \n"
     ]
    }
   ],
   "source": [
    "rows=6\n",
    "for i in range(1,6):\n",
    "    for j in range(i,6):\n",
    "        print(\" \",end = \" \")\n",
    "    for k in range(i):\n",
    "        print(i,end=\" \")\n",
    "    print()    "
   ]
  },
  {
   "cell_type": "code",
   "execution_count": 15,
   "id": "48e417fa-347a-43ea-b97e-3a1f0d72878a",
   "metadata": {},
   "outputs": [
    {
     "ename": "SyntaxError",
     "evalue": "invalid syntax (315660568.py, line 5)",
     "output_type": "error",
     "traceback": [
      "\u001b[1;36m  Cell \u001b[1;32mIn[15], line 5\u001b[1;36m\u001b[0m\n\u001b[1;33m    for k in range(1,i)!\u001b[0m\n\u001b[1;37m                       ^\u001b[0m\n\u001b[1;31mSyntaxError\u001b[0m\u001b[1;31m:\u001b[0m invalid syntax\n"
     ]
    }
   ],
   "source": [
    "rows=5\n",
    "for i in range(1,rows+1):\n",
    "    for j in range(i,rows):\n",
    "        print(\" \",end = \" \")\n",
    "    for k in range(1,i)!\n",
    "         print(k,end=\" \")\n",
    "    for l in range(i,0,-1):\n",
    "         print(1,end = \" \")\n",
    "         print()    "
   ]
  },
  {
   "cell_type": "code",
   "execution_count": null,
   "id": "145da138-e456-4fec-8007-1854291e9ce3",
   "metadata": {},
   "outputs": [],
   "source": []
  },
  {
   "cell_type": "code",
   "execution_count": null,
   "id": "b7ec129e-57f0-4ecd-b314-d1aecdeaf2d2",
   "metadata": {},
   "outputs": [],
   "source": []
  },
  {
   "cell_type": "code",
   "execution_count": null,
   "id": "aa04d3de-a9f0-4dd3-9ac4-804020837b21",
   "metadata": {},
   "outputs": [],
   "source": []
  },
  {
   "cell_type": "code",
   "execution_count": null,
   "id": "2a4e48b7-6bb9-4588-a270-2768bd92151d",
   "metadata": {},
   "outputs": [],
   "source": []
  },
  {
   "cell_type": "code",
   "execution_count": null,
   "id": "021decdd-b5d9-42c6-a941-667f534cecb3",
   "metadata": {},
   "outputs": [],
   "source": []
  },
  {
   "cell_type": "code",
   "execution_count": null,
   "id": "3c427716-43a3-4b90-a472-1be968fdb350",
   "metadata": {},
   "outputs": [],
   "source": []
  }
 ],
 "metadata": {
  "kernelspec": {
   "display_name": "Python 3 (ipykernel)",
   "language": "python",
   "name": "python3"
  },
  "language_info": {
   "codemirror_mode": {
    "name": "ipython",
    "version": 3
   },
   "file_extension": ".py",
   "mimetype": "text/x-python",
   "name": "python",
   "nbconvert_exporter": "python",
   "pygments_lexer": "ipython3",
   "version": "3.12.4"
  }
 },
 "nbformat": 4,
 "nbformat_minor": 5
}
